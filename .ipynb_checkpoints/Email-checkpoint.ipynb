{
 "cells": [
  {
   "cell_type": "code",
   "execution_count": 38,
   "id": "6ca672f6",
   "metadata": {},
   "outputs": [],
   "source": [
    "import pyautogui\n",
    "import pyperclip\n",
    "import time\n",
    "\n",
    "pyautogui.alert(\"Executando ação em 2 segundos\")\n",
    "# pyautogui.Pause = 1.0\n",
    "\n",
    "pyautogui.hotkey(\"ctrl\", \"t\")\n",
    "# Acessando a url\n",
    "pyperclip.copy(\"https://drive.google.com/drive/folders/149xknr9JvrlEnhNWO49zPcw0PW5icxga\")\n",
    "pyautogui.hotkey(\"ctrl\", \"v\")\n",
    "pyautogui.press(\"enter\")\n",
    "\n",
    "# Delay de acesso\n",
    "time.sleep(5)\n",
    "pyautogui.click(x=360, y=267, clicks=2)\n",
    "\n",
    "time.sleep(2)\n",
    "pyautogui.click(x=344, y=441)\n",
    "pyautogui.click(x=1172, y=156)\n",
    "\n",
    "time.sleep(1)\n",
    "pyautogui.click(x=938, y=592)\n",
    "\n",
    "\n",
    "# checkpoint 1:03:15\n",
    "# time.sleep(5)\n",
    "# pyautogui.position()"
   ]
  },
  {
   "cell_type": "code",
   "execution_count": 37,
   "id": "65f46a2d",
   "metadata": {
    "scrolled": true
   },
   "outputs": [
    {
     "data": {
      "text/plain": [
       "Point(x=938, y=592)"
      ]
     },
     "execution_count": 37,
     "metadata": {},
     "output_type": "execute_result"
    }
   ],
   "source": [
    "import pandas\n",
    "tabelas = pandas.read_excel(r\"C:\\Users\\kened\\DownloadsVendas - Dez.xlsx\")"
   ]
  },
  {
   "cell_type": "code",
   "execution_count": null,
   "id": "3a37bceb",
   "metadata": {},
   "outputs": [],
   "source": []
  },
  {
   "cell_type": "code",
   "execution_count": null,
   "id": "54336c47",
   "metadata": {},
   "outputs": [],
   "source": []
  }
 ],
 "metadata": {
  "kernelspec": {
   "display_name": "Python 3 (ipykernel)",
   "language": "python",
   "name": "python3"
  },
  "language_info": {
   "codemirror_mode": {
    "name": "ipython",
    "version": 3
   },
   "file_extension": ".py",
   "mimetype": "text/x-python",
   "name": "python",
   "nbconvert_exporter": "python",
   "pygments_lexer": "ipython3",
   "version": "3.9.12"
  }
 },
 "nbformat": 4,
 "nbformat_minor": 5
}
