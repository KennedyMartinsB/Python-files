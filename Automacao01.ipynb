{
 "cells": [
  {
   "cell_type": "code",
   "execution_count": null,
   "id": "f3ff52c5",
   "metadata": {},
   "outputs": [],
   "source": [
    "import pyautogui\n",
    "import time\n",
    "import pyperclip\n",
    "\n",
    "# Faz uma pausa a cada linha de código\n",
    "pyautogui.Pause = 1\n",
    "# Aciona a tecla win\n",
    "pyautogui.press(\"winleft\")\n",
    "# Digita o nome do navegador que será aberto\n",
    "pyautogui.write(\"chrome\")\n",
    "# Aciona a tecla enter para iniciar o navegador\n",
    "pyautogui.press(\"enter\")\n",
    "# Exibe um alerta antes da execução dos processor\n",
    "pyautogui.alert(\"O processo vai começar, aperte ok e não mexa em nada\")"
   ]
  }
 ],
 "metadata": {
  "kernelspec": {
   "display_name": "Python 3 (ipykernel)",
   "language": "python",
   "name": "python3"
  },
  "language_info": {
   "codemirror_mode": {
    "name": "ipython",
    "version": 3
   },
   "file_extension": ".py",
   "mimetype": "text/x-python",
   "name": "python",
   "nbconvert_exporter": "python",
   "pygments_lexer": "ipython3",
   "version": "3.9.12"
  }
 },
 "nbformat": 4,
 "nbformat_minor": 5
}
